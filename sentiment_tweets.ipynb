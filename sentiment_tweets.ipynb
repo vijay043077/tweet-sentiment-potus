{
 "cells": [
  {
   "cell_type": "code",
   "execution_count": 1,
   "metadata": {
    "ExecuteTime": {
     "end_time": "2020-11-04T02:32:53.767553Z",
     "start_time": "2020-11-04T02:32:49.063628Z"
    }
   },
   "outputs": [],
   "source": [
    "# dependencies\n",
    "import tweepy\n",
    "from textblob import TextBlob\n",
    "from wordcloud import WordCloud\n",
    "import pandas as pd\n",
    "import numpy as np\n",
    "import re\n",
    "import csv\n",
    "import ssl\n",
    "import matplotlib.pyplot as plt\n",
    "plt.style.use('fivethirtyeight')"
   ]
  },
  {
   "cell_type": "code",
   "execution_count": 2,
   "metadata": {
    "ExecuteTime": {
     "end_time": "2020-11-04T02:32:53.783557Z",
     "start_time": "2020-11-04T02:32:53.769554Z"
    }
   },
   "outputs": [],
   "source": [
    "# call config.py to grab Twitter API credentials\n",
    "from config import consumer_key, consumer_secret_key, access_token, access_token_secret"
   ]
  },
  {
   "cell_type": "code",
   "execution_count": 3,
   "metadata": {
    "ExecuteTime": {
     "end_time": "2020-11-04T02:32:53.799557Z",
     "start_time": "2020-11-04T02:32:53.787557Z"
    }
   },
   "outputs": [],
   "source": [
    "# create authentication object\n",
    "authenticate = tweepy.OAuthHandler(consumer_key, consumer_secret_key)\n",
    "# set the access token and access token secret\n",
    "authenticate.set_access_token(access_token, access_token_secret)\n",
    "\n",
    "ssl._create_default_https_context = ssl._create_unverified_context"
   ]
  },
  {
   "cell_type": "code",
   "execution_count": 4,
   "metadata": {
    "ExecuteTime": {
     "end_time": "2020-11-04T02:32:53.815557Z",
     "start_time": "2020-11-04T02:32:53.802561Z"
    }
   },
   "outputs": [],
   "source": [
    "# create the API object while passing in the auth information\n",
    "api = tweepy.API(authenticate, wait_on_rate_limit = True)"
   ]
  },
  {
   "cell_type": "code",
   "execution_count": 5,
   "metadata": {
    "ExecuteTime": {
     "end_time": "2020-11-04T02:32:54.333685Z",
     "start_time": "2020-11-04T02:32:53.818559Z"
    }
   },
   "outputs": [],
   "source": [
    "posts = api.user_timeline(screen_name = \"realDonaldTrump\", count=1000, lang=\"en\", tweet_mode=\"extended\" )"
   ]
  },
  {
   "cell_type": "code",
   "execution_count": 6,
   "metadata": {
    "ExecuteTime": {
     "end_time": "2020-11-04T02:32:54.349678Z",
     "start_time": "2020-11-04T02:32:54.335664Z"
    }
   },
   "outputs": [
    {
     "name": "stdout",
     "output_type": "stream",
     "text": [
      "Show the 5 recent tweets: \n",
      "\n",
      "RT @GOP: There is still time to get out and cast your vote!\n",
      " \n",
      "Find your polling location &amp; vote @realDonaldTrump to #MakeAmericaGreatAgainA…\n",
      "\n",
      "WE ARE LOOKING REALLY GOOD ALL OVER THE COUNTRY. THANK YOU!\n",
      "\n",
      "Get out &amp; VOTE! Under my Administration, our ECONOMY is growing at the fastest rate EVER at 33.1%. Next year will be the GREATEST ECONOMIC YEAR in American History!\n",
      "\n",
      "Find your polling place below. https://t.co/OODmll3Snt\n",
      "\n",
      "RT @realDonaldTrump: https://t.co/gsFSghkmdM https://t.co/ao85KjMeBW\n",
      "\n",
      "RT @realDonaldTrump: https://t.co/gsFSgh2KPc https://t.co/gs5RMGGhDR\n",
      "\n"
     ]
    }
   ],
   "source": [
    "print(\"Show the 5 recent tweets: \\n\")\n",
    "for tweet in posts[0:5]:\n",
    "    print(tweet.full_text + \"\\n\")"
   ]
  },
  {
   "cell_type": "code",
   "execution_count": 7,
   "metadata": {
    "ExecuteTime": {
     "end_time": "2020-11-04T02:32:54.365669Z",
     "start_time": "2020-11-04T02:32:54.353671Z"
    }
   },
   "outputs": [],
   "source": [
    "name = 'realDonaldTrump'\n",
    "tweet_id = '1323765884268224514'"
   ]
  },
  {
   "cell_type": "code",
   "execution_count": 8,
   "metadata": {
    "ExecuteTime": {
     "end_time": "2020-11-04T02:33:25.586687Z",
     "start_time": "2020-11-04T02:32:54.369669Z"
    }
   },
   "outputs": [],
   "source": [
    "replies=[] \n",
    "for tweet in tweepy.Cursor(api.search,q='to:'+name, result_type='recent', timeout=999999).items(1000): \n",
    "    if hasattr(tweet, 'in_reply_to_status_id_str'): \n",
    "        if (tweet.in_reply_to_status_id_str==tweet_id): replies.append(tweet)"
   ]
  },
  {
   "cell_type": "code",
   "execution_count": 17,
   "metadata": {
    "ExecuteTime": {
     "end_time": "2020-11-04T02:42:11.951358Z",
     "start_time": "2020-11-04T02:42:11.938371Z"
    }
   },
   "outputs": [
    {
     "name": "stdout",
     "output_type": "stream",
     "text": [
      "ManosLibres9 @realDonaldTrump You are the champion\n",
      "RefStevens @realDonaldTrump Florida is in full support if you Mr President.\n",
      "twiddle_lada @realDonaldTrump Good luck Mr President! #Trump2020 in the bag!!!!\n",
      "HARRYSSPACES @realDonaldTrump literally just shut up https://t.co/v7X9XfgPoH\n",
      "Obiejazzyup @realDonaldTrump Joe knows quite well that White House is never vacant.....he just contested to waste his precious… https://t.co/CZyNkRlXNl\n",
      "madahzinhah @realDonaldTrump cala boca\n"
     ]
    }
   ],
   "source": [
    "with open('trump_data.csv', newline='') as csvfile:\n",
    "    reader = csv.DictReader(csvfile)\n",
    "    for row in reader:\n",
    "         print(row['user'], row['text'])"
   ]
  },
  {
   "cell_type": "code",
   "execution_count": 30,
   "metadata": {
    "ExecuteTime": {
     "end_time": "2020-11-04T03:02:02.848376Z",
     "start_time": "2020-11-04T03:02:02.819362Z"
    }
   },
   "outputs": [
    {
     "data": {
      "text/html": [
       "<div>\n",
       "<style scoped>\n",
       "    .dataframe tbody tr th:only-of-type {\n",
       "        vertical-align: middle;\n",
       "    }\n",
       "\n",
       "    .dataframe tbody tr th {\n",
       "        vertical-align: top;\n",
       "    }\n",
       "\n",
       "    .dataframe thead th {\n",
       "        text-align: right;\n",
       "    }\n",
       "</style>\n",
       "<table border=\"1\" class=\"dataframe\">\n",
       "  <thead>\n",
       "    <tr style=\"text-align: right;\">\n",
       "      <th></th>\n",
       "      <th>user</th>\n",
       "      <th>text</th>\n",
       "    </tr>\n",
       "  </thead>\n",
       "  <tbody>\n",
       "    <tr>\n",
       "      <td>0</td>\n",
       "      <td>ManosLibres9</td>\n",
       "      <td>@realDonaldTrump You are the champion</td>\n",
       "    </tr>\n",
       "    <tr>\n",
       "      <td>1</td>\n",
       "      <td>RefStevens</td>\n",
       "      <td>@realDonaldTrump Florida is in full support if...</td>\n",
       "    </tr>\n",
       "    <tr>\n",
       "      <td>2</td>\n",
       "      <td>twiddle_lada</td>\n",
       "      <td>@realDonaldTrump Good luck Mr President! #Trum...</td>\n",
       "    </tr>\n",
       "    <tr>\n",
       "      <td>3</td>\n",
       "      <td>HARRYSSPACES</td>\n",
       "      <td>@realDonaldTrump literally just shut up https:...</td>\n",
       "    </tr>\n",
       "    <tr>\n",
       "      <td>4</td>\n",
       "      <td>Obiejazzyup</td>\n",
       "      <td>@realDonaldTrump Joe knows quite well that Whi...</td>\n",
       "    </tr>\n",
       "    <tr>\n",
       "      <td>5</td>\n",
       "      <td>madahzinhah</td>\n",
       "      <td>@realDonaldTrump cala boca</td>\n",
       "    </tr>\n",
       "  </tbody>\n",
       "</table>\n",
       "</div>"
      ],
      "text/plain": [
       "           user                                               text\n",
       "0  ManosLibres9              @realDonaldTrump You are the champion\n",
       "1    RefStevens  @realDonaldTrump Florida is in full support if...\n",
       "2  twiddle_lada  @realDonaldTrump Good luck Mr President! #Trum...\n",
       "3  HARRYSSPACES  @realDonaldTrump literally just shut up https:...\n",
       "4   Obiejazzyup  @realDonaldTrump Joe knows quite well that Whi...\n",
       "5   madahzinhah                         @realDonaldTrump cala boca"
      ]
     },
     "execution_count": 30,
     "metadata": {},
     "output_type": "execute_result"
    }
   ],
   "source": [
    "Trump_replies = pd.read_csv('trump_data.csv', encoding= 'unicode_escape')\n",
    "Trump_replies"
   ]
  },
  {
   "cell_type": "code",
   "execution_count": null,
   "metadata": {},
   "outputs": [],
   "source": []
  }
 ],
 "metadata": {
  "hide_input": false,
  "kernelspec": {
   "display_name": "Python 3",
   "language": "python",
   "name": "python3"
  },
  "language_info": {
   "codemirror_mode": {
    "name": "ipython",
    "version": 3
   },
   "file_extension": ".py",
   "mimetype": "text/x-python",
   "name": "python",
   "nbconvert_exporter": "python",
   "pygments_lexer": "ipython3",
   "version": "3.7.4"
  },
  "toc": {
   "base_numbering": 1,
   "nav_menu": {},
   "number_sections": true,
   "sideBar": true,
   "skip_h1_title": false,
   "title_cell": "Table of Contents",
   "title_sidebar": "Contents",
   "toc_cell": false,
   "toc_position": {},
   "toc_section_display": true,
   "toc_window_display": false
  },
  "varInspector": {
   "cols": {
    "lenName": 16,
    "lenType": 16,
    "lenVar": 40
   },
   "kernels_config": {
    "python": {
     "delete_cmd_postfix": "",
     "delete_cmd_prefix": "del ",
     "library": "var_list.py",
     "varRefreshCmd": "print(var_dic_list())"
    },
    "r": {
     "delete_cmd_postfix": ") ",
     "delete_cmd_prefix": "rm(",
     "library": "var_list.r",
     "varRefreshCmd": "cat(var_dic_list()) "
    }
   },
   "types_to_exclude": [
    "module",
    "function",
    "builtin_function_or_method",
    "instance",
    "_Feature"
   ],
   "window_display": false
  }
 },
 "nbformat": 4,
 "nbformat_minor": 2
}
